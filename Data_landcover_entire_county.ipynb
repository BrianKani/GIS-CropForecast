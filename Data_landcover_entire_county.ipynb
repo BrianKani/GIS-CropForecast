{
  "nbformat": 4,
  "nbformat_minor": 0,
  "metadata": {
    "colab": {
      "provenance": [],
      "authorship_tag": "ABX9TyNm8Q9y+fMid27txyu4dRtI",
      "include_colab_link": true
    },
    "kernelspec": {
      "name": "python3",
      "display_name": "Python 3"
    },
    "language_info": {
      "name": "python"
    }
  },
  "cells": [
    {
      "cell_type": "markdown",
      "metadata": {
        "id": "view-in-github",
        "colab_type": "text"
      },
      "source": [
        "<a href=\"https://colab.research.google.com/github/BrianKani/GIS-CropForecast/blob/master/Data_landcover_entire_county.ipynb\" target=\"_parent\"><img src=\"https://colab.research.google.com/assets/colab-badge.svg\" alt=\"Open In Colab\"/></a>"
      ]
    },
    {
      "cell_type": "code",
      "execution_count": null,
      "metadata": {
        "id": "hfyGTxOb_8Bo"
      },
      "outputs": [],
      "source": [
        "import geemap\n",
        "import ee"
      ]
    },
    {
      "cell_type": "code",
      "source": [
        "ee.Authenticate()\n",
        "ee.Initialize()"
      ],
      "metadata": {
        "id": "jdwZf3vRAXUQ"
      },
      "execution_count": null,
      "outputs": []
    },
    {
      "cell_type": "code",
      "source": [
        "import time\n",
        "import numpy as np\n",
        "import pandas as pd"
      ],
      "metadata": {
        "id": "bAgQ0GOBAdQ9"
      },
      "execution_count": null,
      "outputs": []
    },
    {
      "cell_type": "code",
      "source": [
        "\n",
        "def export_oneimage(img, folder, name, region, scale, crs):\n",
        "    task = ee.batch.Export.image.toDrive(image=img, description=name, folder=folder, fileNamePrefix=name, region=region, scale=scale, crs=crs)\n",
        "    task.start()\n",
        "    while task.status()['state'] == 'RUNNING':\n",
        "        print('Running...')\n",
        "        time.sleep(10)\n",
        "    print('Done.', task.status())\n",
        "\n",
        "locations = pd.read_csv('/content/locations.csv')\n",
        "\n",
        "# Define Uasin Gishu County bounding box coordinates\n",
        "uasin_gishu_bbox = [[34.6898, 0.3601], [35.8078, 0.3601], [35.8078, 0.9558], [34.6898, 0.9558]]\n",
        "\n",
        "# Transforms an Image Collection with 1 band per Image into a single Image with items as bands\n",
        "def appendBand(current, previous):\n",
        "    # Rename the band\n",
        "    previous = ee.Image(previous)\n",
        "    current = current.select([0])\n",
        "    # Append it to the result (Note: only return current item on first element/iteration)\n",
        "    accum = ee.Algorithms.If(ee.Algorithms.IsEqual(previous, None), current, previous.addBands(ee.Image(current)))\n",
        "    # Return the accumulation\n",
        "    return accum\n",
        "\n",
        "county_region = ee.FeatureCollection('ft:18Ayj5e7JxxtTPm1BdMnnzWbZMrxMB49eqGDTsaSp')\n",
        "\n",
        "# Filter the image collection for your analysis period and area of interest\n",
        "imgcoll = ee.ImageCollection('MODIS/051/MCD12Q1') \\\n",
        "    .filterBounds(ee.Geometry.Polygon(uasin_gishu_bbox)) \\\n",
        "    .filterDate('2016-12-31', '2022-12-31')\n",
        "img = imgcoll.iterate(appendBand)\n",
        "img = ee.Image(img)\n",
        "\n",
        "for loc1, loc2, lat, lon in locations.values:\n",
        "    fname = '{}_{}'.format(int(loc1), int(loc2))\n",
        "\n",
        "    scale = 500\n",
        "    crs = 'EPSG:4326'\n",
        "\n",
        "    # Filter for Uasin Gishu County\n",
        "    region = county_region.filterMetadata('STATE num', 'equals', loc1)\n",
        "    region = ee.FeatureCollection(region).filterMetadata('COUNTY num', 'equals', loc2)\n",
        "    region = region.first()\n",
        "    region = region.geometry().bounds().getInfo()['coordinates']\n",
        "\n",
        "    while True:\n",
        "        try:\n",
        "            export_oneimage(img, 'Data_county_mask', fname, region, scale, crs)\n",
        "        except:\n",
        "            print('Retry...')\n",
        "            time.sleep(10)\n",
        "            continue\n",
        "        break\n"
      ],
      "metadata": {
        "id": "dBQBV-m1AhWT"
      },
      "execution_count": null,
      "outputs": []
    }
  ]
}