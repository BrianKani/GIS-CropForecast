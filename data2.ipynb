{
  "nbformat": 4,
  "nbformat_minor": 0,
  "metadata": {
    "colab": {
      "provenance": [],
      "authorship_tag": "ABX9TyOW85GV/4H98hDD1/u4jBh+",
      "include_colab_link": true
    },
    "kernelspec": {
      "name": "python3",
      "display_name": "Python 3"
    },
    "language_info": {
      "name": "python"
    }
  },
  "cells": [
    {
      "cell_type": "markdown",
      "metadata": {
        "id": "view-in-github",
        "colab_type": "text"
      },
      "source": [
        "<a href=\"https://colab.research.google.com/github/BrianKani/GIS-CropForecast/blob/master/data2.ipynb\" target=\"_parent\"><img src=\"https://colab.research.google.com/assets/colab-badge.svg\" alt=\"Open In Colab\"/></a>"
      ]
    },
    {
      "cell_type": "code",
      "execution_count": 1,
      "metadata": {
        "id": "Vv64Ws3DVM_h"
      },
      "outputs": [],
      "source": [
        "import geemap\n",
        "import ee"
      ]
    },
    {
      "cell_type": "code",
      "source": [
        "ee.Authenticate()\n",
        "ee.Initialize(project=\"ee-briankipsang19\")"
      ],
      "metadata": {
        "colab": {
          "base_uri": "https://localhost:8080/",
          "height": 17
        },
        "id": "BBcKy2mmVVq0",
        "outputId": "5c5f09d6-1172-40ef-9b2d-cb58ff31c432"
      },
      "execution_count": 2,
      "outputs": [
        {
          "output_type": "display_data",
          "data": {
            "text/plain": [
              "<IPython.core.display.HTML object>"
            ],
            "text/html": [
              "\n",
              "            <style>\n",
              "                .geemap-dark {\n",
              "                    --jp-widgets-color: white;\n",
              "                    --jp-widgets-label-color: white;\n",
              "                    --jp-ui-font-color1: white;\n",
              "                    --jp-layout-color2: #454545;\n",
              "                    background-color: #383838;\n",
              "                }\n",
              "                    \n",
              "                .geemap-dark .jupyter-button {\n",
              "                    --jp-layout-color3: #383838;\n",
              "                }\n",
              "                \n",
              "                .geemap-colab {\n",
              "                    background-color: var(--colab-primary-surface-color, white);\n",
              "                }\n",
              "                    \n",
              "                .geemap-colab .jupyter-button {\n",
              "                    --jp-layout-color3: var(--colab-primary-surface-color, white);\n",
              "                }\n",
              "            </style>\n",
              "            "
            ]
          },
          "metadata": {}
        }
      ]
    },
    {
      "cell_type": "code",
      "source": [
        "import time\n",
        "import pandas as pd\n",
        "import numpy as np\n",
        "\n"
      ],
      "metadata": {
        "colab": {
          "base_uri": "https://localhost:8080/",
          "height": 17
        },
        "id": "x1XA5Pv7VcgP",
        "outputId": "94cd199e-dd90-47e8-88e6-56d98fc7ca03"
      },
      "execution_count": 3,
      "outputs": [
        {
          "output_type": "display_data",
          "data": {
            "text/plain": [
              "<IPython.core.display.HTML object>"
            ],
            "text/html": [
              "\n",
              "            <style>\n",
              "                .geemap-dark {\n",
              "                    --jp-widgets-color: white;\n",
              "                    --jp-widgets-label-color: white;\n",
              "                    --jp-ui-font-color1: white;\n",
              "                    --jp-layout-color2: #454545;\n",
              "                    background-color: #383838;\n",
              "                }\n",
              "                    \n",
              "                .geemap-dark .jupyter-button {\n",
              "                    --jp-layout-color3: #383838;\n",
              "                }\n",
              "                \n",
              "                .geemap-colab {\n",
              "                    background-color: var(--colab-primary-surface-color, white);\n",
              "                }\n",
              "                    \n",
              "                .geemap-colab .jupyter-button {\n",
              "                    --jp-layout-color3: var(--colab-primary-surface-color, white);\n",
              "                }\n",
              "            </style>\n",
              "            "
            ]
          },
          "metadata": {}
        }
      ]
    },
    {
      "cell_type": "code",
      "source": [
        "def export_oneimage(img, folder, name, region, scale, crs):\n",
        "    task = ee.batch.Export.image(img, name, {\n",
        "        'driveFolder': folder,\n",
        "        'driveFileNamePrefix': name,\n",
        "        'region': region,\n",
        "        'scale': scale,\n",
        "        'crs': crs\n",
        "    })\n",
        "    task.start()\n",
        "    while task.status()['state'] == 'RUNNING':\n",
        "        print('Running...')\n",
        "        # Perhaps task.cancel() at some point.\n",
        "        time.sleep(10)\n",
        "    print('Done.', task.status())\n",
        "\n",
        "# Read location data from CSV\n",
        "locations = pd.read_csv('/content/locations.csv')\n",
        "\n",
        "# Define the bounding box coordinates for Uasin Gishu County\n",
        "uasin_gishu_bbox = [[34.6898, 0.3601], [35.8078, 0.3601], [35.8078, 0.9558], [34.6898, 0.9558]]\n",
        "\n",
        "# Transforms an Image Collection with 1 band per Image into a single Image with items as bands\n",
        "def appendBand(current, previous):\n",
        "    # Rename the band\n",
        "    previous = ee.Image(previous)\n",
        "    current = current.select([0, 1, 2, 3, 4, 5, 6])\n",
        "    # Append it to the result (Note: only return current item on first element/iteration)\n",
        "    accum = ee.Algorithms.If(ee.Algorithms.IsEqual(previous, None), current, previous.addBands(ee.Image(current)))\n",
        "    # Return the accumulation\n",
        "    return accum\n",
        "\n",
        "# Load the image collection and filter by location and date\n",
        "imgcoll = ee.ImageCollection('MODIS/MOD09A1') \\\n",
        "    .filterBounds(ee.Geometry.Polygon(uasin_gishu_bbox)) \\\n",
        "    .filterDate('2016-12-31', '2022-12-31')\n",
        "img = imgcoll.iterate(appendBand)\n",
        "img = ee.Image(img)\n",
        "\n",
        "img_0 = ee.Image(ee.Number(0))\n",
        "img_5000 = ee.Image(ee.Number(5000))\n",
        "\n",
        "img = img.min(img_5000)\n",
        "img = img.max(img_0)\n",
        "\n",
        "# Iterate over locations and export images\n",
        "for row in locations.values:\n",
        "    loc1, loc2, lat, lon = row[0], row[1], row[2], row[3]\n",
        "    fname = '{}_{}'.format(int(loc1), int(loc2))\n",
        "\n",
        "    offset = 0.11\n",
        "    scale = 500\n",
        "    crs = 'EPSG:4326'\n",
        "\n",
        "    # Define the region of interest as the bounding box of Uasin Gishu County\n",
        "    region = str(uasin_gishu_bbox)\n",
        "\n",
        "    while True:\n",
        "        try:\n",
        "            export_oneimage(img, 'Data_county', fname, region, scale, crs)\n",
        "        except Exception as e:\n",
        "            print('Error:', e)\n",
        "            print('Retry...')\n",
        "            time.sleep(10)\n",
        "            continue\n",
        "        break"
      ],
      "metadata": {
        "colab": {
          "base_uri": "https://localhost:8080/",
          "height": 193
        },
        "id": "wf7zaTcdVm33",
        "outputId": "7eeb8f44-81fe-4197-a36c-556748db74cc"
      },
      "execution_count": 5,
      "outputs": [
        {
          "output_type": "display_data",
          "data": {
            "text/plain": [
              "<IPython.core.display.HTML object>"
            ],
            "text/html": [
              "\n",
              "            <style>\n",
              "                .geemap-dark {\n",
              "                    --jp-widgets-color: white;\n",
              "                    --jp-widgets-label-color: white;\n",
              "                    --jp-ui-font-color1: white;\n",
              "                    --jp-layout-color2: #454545;\n",
              "                    background-color: #383838;\n",
              "                }\n",
              "                    \n",
              "                .geemap-dark .jupyter-button {\n",
              "                    --jp-layout-color3: #383838;\n",
              "                }\n",
              "                \n",
              "                .geemap-colab {\n",
              "                    background-color: var(--colab-primary-surface-color, white);\n",
              "                }\n",
              "                    \n",
              "                .geemap-colab .jupyter-button {\n",
              "                    --jp-layout-color3: var(--colab-primary-surface-color, white);\n",
              "                }\n",
              "            </style>\n",
              "            "
            ]
          },
          "metadata": {}
        },
        {
          "output_type": "stream",
          "name": "stdout",
          "text": [
            "Done. {'state': 'READY', 'description': '1_2', 'creation_timestamp_ms': 1707459643922, 'update_timestamp_ms': 1707459643922, 'start_timestamp_ms': 0, 'task_type': 'EXPORT_IMAGE', 'id': '2SJLZIS44SUP42TOP6NCHCYP', 'name': 'projects/ee-briankipsang19/operations/2SJLZIS44SUP42TOP6NCHCYP'}\n",
            "Done. {'state': 'READY', 'description': '1_3', 'creation_timestamp_ms': 1707459644607, 'update_timestamp_ms': 1707459644607, 'start_timestamp_ms': 0, 'task_type': 'EXPORT_IMAGE', 'id': 'DMIKCEXLH23JWYXJSHXPZ73M', 'name': 'projects/ee-briankipsang19/operations/DMIKCEXLH23JWYXJSHXPZ73M'}\n",
            "Done. {'state': 'READY', 'description': '1_4', 'creation_timestamp_ms': 1707459645141, 'update_timestamp_ms': 1707459645141, 'start_timestamp_ms': 0, 'task_type': 'EXPORT_IMAGE', 'id': 'AEJB32ORW5LO2ZN7XJX2PJML', 'name': 'projects/ee-briankipsang19/operations/AEJB32ORW5LO2ZN7XJX2PJML'}\n",
            "Done. {'state': 'READY', 'description': '1_5', 'creation_timestamp_ms': 1707459645687, 'update_timestamp_ms': 1707459645687, 'start_timestamp_ms': 0, 'task_type': 'EXPORT_IMAGE', 'id': 'TU3ZAFAFSMMGPZWCRGOOEQZM', 'name': 'projects/ee-briankipsang19/operations/TU3ZAFAFSMMGPZWCRGOOEQZM'}\n",
            "Done. {'state': 'READY', 'description': '1_6', 'creation_timestamp_ms': 1707459646215, 'update_timestamp_ms': 1707459646215, 'start_timestamp_ms': 0, 'task_type': 'EXPORT_IMAGE', 'id': 'NSU2ETIQQT5TCYO5A3OIRAHH', 'name': 'projects/ee-briankipsang19/operations/NSU2ETIQQT5TCYO5A3OIRAHH'}\n",
            "Done. {'state': 'READY', 'description': '1_7', 'creation_timestamp_ms': 1707459646795, 'update_timestamp_ms': 1707459646795, 'start_timestamp_ms': 0, 'task_type': 'EXPORT_IMAGE', 'id': '7MCU4ITBCPXQYYEHQRMCUDCT', 'name': 'projects/ee-briankipsang19/operations/7MCU4ITBCPXQYYEHQRMCUDCT'}\n",
            "Done. {'state': 'READY', 'description': '1_8', 'creation_timestamp_ms': 1707459647386, 'update_timestamp_ms': 1707459647386, 'start_timestamp_ms': 0, 'task_type': 'EXPORT_IMAGE', 'id': 'JGRH2QOS6DE6H42AQOJNYEC7', 'name': 'projects/ee-briankipsang19/operations/JGRH2QOS6DE6H42AQOJNYEC7'}\n",
            "Done. {'state': 'READY', 'description': '1_9', 'creation_timestamp_ms': 1707459647979, 'update_timestamp_ms': 1707459647979, 'start_timestamp_ms': 0, 'task_type': 'EXPORT_IMAGE', 'id': '43YWP6V2UNI6HHTQATRV7JV6', 'name': 'projects/ee-briankipsang19/operations/43YWP6V2UNI6HHTQATRV7JV6'}\n",
            "Done. {'state': 'READY', 'description': '1_10', 'creation_timestamp_ms': 1707459648512, 'update_timestamp_ms': 1707459648512, 'start_timestamp_ms': 0, 'task_type': 'EXPORT_IMAGE', 'id': '3ENYQLXX2SHUKJIIS2VK4V7C', 'name': 'projects/ee-briankipsang19/operations/3ENYQLXX2SHUKJIIS2VK4V7C'}\n"
          ]
        }
      ]
    }
  ]
}