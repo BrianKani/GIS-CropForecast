{
  "nbformat": 4,
  "nbformat_minor": 0,
  "metadata": {
    "colab": {
      "provenance": [],
      "authorship_tag": "ABX9TyOIIguO3wtP8hp8VKA7Qs6w",
      "include_colab_link": true
    },
    "kernelspec": {
      "name": "python3",
      "display_name": "Python 3"
    },
    "language_info": {
      "name": "python"
    }
  },
  "cells": [
    {
      "cell_type": "markdown",
      "metadata": {
        "id": "view-in-github",
        "colab_type": "text"
      },
      "source": [
        "<a href=\"https://colab.research.google.com/github/BrianKani/GIS-CropForecast/blob/master/data3(clip).ipynb\" target=\"_parent\"><img src=\"https://colab.research.google.com/assets/colab-badge.svg\" alt=\"Open In Colab\"/></a>"
      ]
    },
    {
      "cell_type": "code",
      "execution_count": 1,
      "metadata": {
        "id": "Vv64Ws3DVM_h"
      },
      "outputs": [],
      "source": [
        "import geemap\n",
        "import ee"
      ]
    },
    {
      "cell_type": "code",
      "source": [
        "ee.Authenticate()\n",
        "ee.Initialize(project=\"ee-briankipsang19\")"
      ],
      "metadata": {
        "colab": {
          "base_uri": "https://localhost:8080/",
          "height": 17
        },
        "id": "BBcKy2mmVVq0",
        "outputId": "5c5f09d6-1172-40ef-9b2d-cb58ff31c432"
      },
      "execution_count": 2,
      "outputs": [
        {
          "output_type": "display_data",
          "data": {
            "text/plain": [
              "<IPython.core.display.HTML object>"
            ],
            "text/html": [
              "\n",
              "            <style>\n",
              "                .geemap-dark {\n",
              "                    --jp-widgets-color: white;\n",
              "                    --jp-widgets-label-color: white;\n",
              "                    --jp-ui-font-color1: white;\n",
              "                    --jp-layout-color2: #454545;\n",
              "                    background-color: #383838;\n",
              "                }\n",
              "                    \n",
              "                .geemap-dark .jupyter-button {\n",
              "                    --jp-layout-color3: #383838;\n",
              "                }\n",
              "                \n",
              "                .geemap-colab {\n",
              "                    background-color: var(--colab-primary-surface-color, white);\n",
              "                }\n",
              "                    \n",
              "                .geemap-colab .jupyter-button {\n",
              "                    --jp-layout-color3: var(--colab-primary-surface-color, white);\n",
              "                }\n",
              "            </style>\n",
              "            "
            ]
          },
          "metadata": {}
        }
      ]
    },
    {
      "cell_type": "code",
      "source": [
        "import time\n",
        "import pandas as pd\n",
        "import numpy as np\n",
        "\n"
      ],
      "metadata": {
        "colab": {
          "base_uri": "https://localhost:8080/",
          "height": 17
        },
        "id": "x1XA5Pv7VcgP",
        "outputId": "94cd199e-dd90-47e8-88e6-56d98fc7ca03"
      },
      "execution_count": 3,
      "outputs": [
        {
          "output_type": "display_data",
          "data": {
            "text/plain": [
              "<IPython.core.display.HTML object>"
            ],
            "text/html": [
              "\n",
              "            <style>\n",
              "                .geemap-dark {\n",
              "                    --jp-widgets-color: white;\n",
              "                    --jp-widgets-label-color: white;\n",
              "                    --jp-ui-font-color1: white;\n",
              "                    --jp-layout-color2: #454545;\n",
              "                    background-color: #383838;\n",
              "                }\n",
              "                    \n",
              "                .geemap-dark .jupyter-button {\n",
              "                    --jp-layout-color3: #383838;\n",
              "                }\n",
              "                \n",
              "                .geemap-colab {\n",
              "                    background-color: var(--colab-primary-surface-color, white);\n",
              "                }\n",
              "                    \n",
              "                .geemap-colab .jupyter-button {\n",
              "                    --jp-layout-color3: var(--colab-primary-surface-color, white);\n",
              "                }\n",
              "            </style>\n",
              "            "
            ]
          },
          "metadata": {}
        }
      ]
    },
    {
      "cell_type": "code",
      "source": [
        "def export_oneimage(img, folder, name, scale, crs):\n",
        "    task = ee.batch.Export.image(img, name, {\n",
        "        'driveFolder': folder,\n",
        "        'driveFileNamePrefix': name,\n",
        "        'scale': scale,\n",
        "        'crs': crs\n",
        "    })\n",
        "    task.start()\n",
        "    while task.status()['state'] == 'RUNNING':\n",
        "        print('Running...')\n",
        "        # Perhaps task.cancel() at some point.\n",
        "        time.sleep(10)\n",
        "    print('Done.', task.status())\n",
        "\n",
        "# Read the locations CSV file\n",
        "locations = pd.read_csv('/content/locations.csv', header=None)\n",
        "\n",
        "# Transforms an Image Collection with 1 band per Image into a single Image with items as bands\n",
        "def appendBand(current, previous):\n",
        "    # Rename the band\n",
        "    previous = ee.Image(previous)\n",
        "    current = current.select([0,1,2,3,4,5,6])\n",
        "    # Append it to the result (Note: only return current item on first element/iteration)\n",
        "    accum = ee.Algorithms.If(ee.Algorithms.IsEqual(previous, None), current, previous.addBands(ee.Image(current)))\n",
        "    # Return the accumulation\n",
        "    return accum\n",
        "\n",
        "# Define the bounding box coordinates for Uasin Gishu County\n",
        "uasin_gishu_bbox = [[35.3, 0.6], [35.4, 0.6], [35.4, 0.7], [35.3, 0.7]]\n",
        "\n",
        "# Filter the MODIS image collection to include only images within Uasin Gishu County and within a specific date range\n",
        "imgcoll = ee.ImageCollection('MODIS/MOD09A1') \\\n",
        "    .filterBounds(ee.Geometry.Polygon(uasin_gishu_bbox)) \\\n",
        "    .filterDate('2016-12-31', '2022-08-04')\n",
        "\n",
        "img = imgcoll.iterate(appendBand)\n",
        "img = ee.Image(img)\n",
        "\n",
        "img_0 = ee.Image(ee.Number(-100))\n",
        "img_16000 = ee.Image(ee.Number(16000))\n",
        "\n",
        "img = img.min(img_16000)\n",
        "img = img.max(img_0)\n",
        "\n",
        "# Iterate over locations and export images\n",
        "for row in locations.values:\n",
        "    loc1, loc2, lat, lon = row[0], row[1], row[2], row[3]\n",
        "    fname = '{}_{}'.format(int(loc1), int(loc2))\n",
        "\n",
        "    scale = 1000\n",
        "    crs = 'EPSG:4326'\n",
        "\n",
        "    # Define the region of interest as the bounding box of Uasin Gishu County\n",
        "    region = str(uasin_gishu_bbox)\n",
        "\n",
        "    while True:\n",
        "        try:\n",
        "            export_oneimage(img, 'test', fname, scale, crs)\n",
        "        except Exception as e:\n",
        "            print('Error:', e)\n",
        "            print('Retry...')\n",
        "            time.sleep(10)\n",
        "            continue\n",
        "        break\n"
      ],
      "metadata": {
        "colab": {
          "base_uri": "https://localhost:8080/",
          "height": 211
        },
        "id": "wf7zaTcdVm33",
        "outputId": "e648b309-1cda-4f07-f9cb-78e7f58a2a2f"
      },
      "execution_count": 9,
      "outputs": [
        {
          "output_type": "display_data",
          "data": {
            "text/plain": [
              "<IPython.core.display.HTML object>"
            ],
            "text/html": [
              "\n",
              "            <style>\n",
              "                .geemap-dark {\n",
              "                    --jp-widgets-color: white;\n",
              "                    --jp-widgets-label-color: white;\n",
              "                    --jp-ui-font-color1: white;\n",
              "                    --jp-layout-color2: #454545;\n",
              "                    background-color: #383838;\n",
              "                }\n",
              "                    \n",
              "                .geemap-dark .jupyter-button {\n",
              "                    --jp-layout-color3: #383838;\n",
              "                }\n",
              "                \n",
              "                .geemap-colab {\n",
              "                    background-color: var(--colab-primary-surface-color, white);\n",
              "                }\n",
              "                    \n",
              "                .geemap-colab .jupyter-button {\n",
              "                    --jp-layout-color3: var(--colab-primary-surface-color, white);\n",
              "                }\n",
              "            </style>\n",
              "            "
            ]
          },
          "metadata": {}
        },
        {
          "output_type": "stream",
          "name": "stdout",
          "text": [
            "Done. {'state': 'READY', 'description': '1_1', 'creation_timestamp_ms': 1707460910728, 'update_timestamp_ms': 1707460910728, 'start_timestamp_ms': 0, 'task_type': 'EXPORT_IMAGE', 'id': '6YKQKDBXOB2B6KVXFVZBOVDD', 'name': 'projects/ee-briankipsang19/operations/6YKQKDBXOB2B6KVXFVZBOVDD'}\n",
            "Done. {'state': 'READY', 'description': '1_2', 'creation_timestamp_ms': 1707460911228, 'update_timestamp_ms': 1707460911228, 'start_timestamp_ms': 0, 'task_type': 'EXPORT_IMAGE', 'id': 'QZNE4JQNYUZQWDWKO2BW2HK4', 'name': 'projects/ee-briankipsang19/operations/QZNE4JQNYUZQWDWKO2BW2HK4'}\n",
            "Done. {'state': 'READY', 'description': '1_3', 'creation_timestamp_ms': 1707460911760, 'update_timestamp_ms': 1707460911760, 'start_timestamp_ms': 0, 'task_type': 'EXPORT_IMAGE', 'id': 'SB7OCPQNCUO7SORYTKH42DSW', 'name': 'projects/ee-briankipsang19/operations/SB7OCPQNCUO7SORYTKH42DSW'}\n",
            "Done. {'state': 'READY', 'description': '1_4', 'creation_timestamp_ms': 1707460912349, 'update_timestamp_ms': 1707460912349, 'start_timestamp_ms': 0, 'task_type': 'EXPORT_IMAGE', 'id': 'HYWVPGXWXQ5CGAAUS77EVAA3', 'name': 'projects/ee-briankipsang19/operations/HYWVPGXWXQ5CGAAUS77EVAA3'}\n",
            "Done. {'state': 'READY', 'description': '1_5', 'creation_timestamp_ms': 1707460912941, 'update_timestamp_ms': 1707460912941, 'start_timestamp_ms': 0, 'task_type': 'EXPORT_IMAGE', 'id': '6IKFXCMDKY6C647VFLQK7PRX', 'name': 'projects/ee-briankipsang19/operations/6IKFXCMDKY6C647VFLQK7PRX'}\n",
            "Done. {'state': 'READY', 'description': '1_6', 'creation_timestamp_ms': 1707460913467, 'update_timestamp_ms': 1707460913467, 'start_timestamp_ms': 0, 'task_type': 'EXPORT_IMAGE', 'id': 'TDF5I66IFFI7YYQB37UQI6Z7', 'name': 'projects/ee-briankipsang19/operations/TDF5I66IFFI7YYQB37UQI6Z7'}\n",
            "Done. {'state': 'READY', 'description': '1_7', 'creation_timestamp_ms': 1707460913980, 'update_timestamp_ms': 1707460913980, 'start_timestamp_ms': 0, 'task_type': 'EXPORT_IMAGE', 'id': 'OB4A2KBLRJC6ZI55FBXXWUY5', 'name': 'projects/ee-briankipsang19/operations/OB4A2KBLRJC6ZI55FBXXWUY5'}\n",
            "Done. {'state': 'READY', 'description': '1_8', 'creation_timestamp_ms': 1707460914565, 'update_timestamp_ms': 1707460914565, 'start_timestamp_ms': 0, 'task_type': 'EXPORT_IMAGE', 'id': 'EIEGDM45XJKQQISIRPFWA2AP', 'name': 'projects/ee-briankipsang19/operations/EIEGDM45XJKQQISIRPFWA2AP'}\n",
            "Done. {'state': 'READY', 'description': '1_9', 'creation_timestamp_ms': 1707460915141, 'update_timestamp_ms': 1707460915141, 'start_timestamp_ms': 0, 'task_type': 'EXPORT_IMAGE', 'id': '3EPP3O6Z76XTVSSDKURIMCSU', 'name': 'projects/ee-briankipsang19/operations/3EPP3O6Z76XTVSSDKURIMCSU'}\n",
            "Done. {'state': 'READY', 'description': '1_10', 'creation_timestamp_ms': 1707460915700, 'update_timestamp_ms': 1707460915700, 'start_timestamp_ms': 0, 'task_type': 'EXPORT_IMAGE', 'id': '44RLWHUAIOVGI45SI2Q7ZHJX', 'name': 'projects/ee-briankipsang19/operations/44RLWHUAIOVGI45SI2Q7ZHJX'}\n"
          ]
        }
      ]
    }
  ]
}