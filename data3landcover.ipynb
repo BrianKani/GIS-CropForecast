{
  "nbformat": 4,
  "nbformat_minor": 0,
  "metadata": {
    "colab": {
      "provenance": [],
      "authorship_tag": "ABX9TyOKLaiywNDbuZ5+41jgDC34",
      "include_colab_link": true
    },
    "kernelspec": {
      "name": "python3",
      "display_name": "Python 3"
    },
    "language_info": {
      "name": "python"
    }
  },
  "cells": [
    {
      "cell_type": "markdown",
      "metadata": {
        "id": "view-in-github",
        "colab_type": "text"
      },
      "source": [
        "<a href=\"https://colab.research.google.com/github/BrianKani/GIS-CropForecast/blob/master/data3landcover.ipynb\" target=\"_parent\"><img src=\"https://colab.research.google.com/assets/colab-badge.svg\" alt=\"Open In Colab\"/></a>"
      ]
    },
    {
      "cell_type": "code",
      "execution_count": null,
      "metadata": {
        "id": "hfyGTxOb_8Bo"
      },
      "outputs": [],
      "source": [
        "import geemap\n",
        "import ee"
      ]
    },
    {
      "cell_type": "code",
      "source": [
        "ee.Authenticate()\n",
        "ee.Initialize()"
      ],
      "metadata": {
        "id": "jdwZf3vRAXUQ"
      },
      "execution_count": null,
      "outputs": []
    },
    {
      "cell_type": "code",
      "source": [
        "import time\n",
        "import numpy as np\n",
        "import pandas as pd"
      ],
      "metadata": {
        "id": "bAgQ0GOBAdQ9"
      },
      "execution_count": null,
      "outputs": []
    },
    {
      "cell_type": "code",
      "source": [
        "def export_oneimage(img, folder, name, region, scale, crs):\n",
        "    task = ee.batch.Export.image(img, name, {\n",
        "        'driveFolder': folder,\n",
        "        'driveFileNamePrefix': name,\n",
        "        'region': region,\n",
        "        'scale': scale,\n",
        "        'crs': crs\n",
        "    })\n",
        "    task.start()\n",
        "    while task.status()['state'] == 'RUNNING':\n",
        "        print('Running...')\n",
        "        # Perhaps task.cancel() at some point.\n",
        "        time.sleep(10)\n",
        "    print('Done.', task.status())\n",
        "\n",
        "locations = pd.read_csv('/content/locations.csv')\n",
        "\n",
        "# Define the bounding box coordinates for Uasin Gishu County\n",
        "uasin_gishu_bbox = [[35.3, 0.6], [35.4, 0.6], [35.4, 0.7], [35.3, 0.7]]\n",
        "\n",
        "# Transforms an Image Collection with 1 band per Image into a single Image with items as bands\n",
        "# Author: Brian Kipsang\n",
        "\n",
        "def appendBand(current, previous):\n",
        "    # Rename the band\n",
        "    previous = ee.Image(previous)\n",
        "    current = current.select([0])\n",
        "    # Append it to the result (Note: only return current item on first element/iteration)\n",
        "    accum = ee.Algorithms.If(ee.Algorithms.IsEqual(previous, None), current, previous.addBands(ee.Image(current)))\n",
        "    # Return the accumulation\n",
        "    return accum\n",
        "\n",
        "imgcoll = ee.ImageCollection('MODIS/051/MCD12Q1') \\\n",
        "    .filterBounds(ee.Geometry.Polygon(uasin_gishu_bbox))\n",
        "img = imgcoll.iterate(appendBand)\n",
        "\n",
        "for loc1, loc2, lat, lon in locations.values:\n",
        "    fname = '{}_{}'.format(int(loc1), int(loc2))\n",
        "\n",
        "    offset = 0.11\n",
        "    scale = 500\n",
        "    crs = 'EPSG:4326'\n",
        "\n",
        "    region = str([\n",
        "        [lat - offset, lon + offset],\n",
        "        [lat + offset, lon + offset],\n",
        "        [lat + offset, lon - offset],\n",
        "        [lat - offset, lon - offset]])\n",
        "\n",
        "    while True:\n",
        "        try:\n",
        "            export_oneimage(img, 'Data_mask', fname, region, scale, crs)\n",
        "        except:\n",
        "            print('retry')\n",
        "            time.sleep(10)\n",
        "            continue\n",
        "        break\n"
      ],
      "metadata": {
        "id": "dBQBV-m1AhWT"
      },
      "execution_count": null,
      "outputs": []
    }
  ]
}